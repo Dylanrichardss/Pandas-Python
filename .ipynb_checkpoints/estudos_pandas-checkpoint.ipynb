{
 "cells": [
  {
   "cell_type": "code",
   "execution_count": 2,
   "id": "2d73cc72",
   "metadata": {},
   "outputs": [],
   "source": [
    "import pandas as pd\n",
    "import numpy as np\n"
   ]
  },
  {
   "cell_type": "code",
   "execution_count": 3,
   "id": "950742e2",
   "metadata": {},
   "outputs": [],
   "source": [
    "series = pd.Series[7 , 3, 2, np.nan, 6, 9]"
   ]
  },
  {
   "cell_type": "code",
   "execution_count": 6,
   "id": "6190fc01",
   "metadata": {},
   "outputs": [],
   "source": [
    "datas = pd.date_range(\"20220101\", periods=6)\n",
    "#pega datas. Periodo. Inicio e fim. Ano, mês, dia. periods é dias a mais"
   ]
  },
  {
   "cell_type": "code",
   "execution_count": 11,
   "id": "72b0e089",
   "metadata": {},
   "outputs": [
    {
     "name": "stdout",
     "output_type": "stream",
     "text": [
      "2022-01-01 00:00:00\n",
      "2022-01-02 00:00:00\n",
      "2022-01-03 00:00:00\n",
      "2022-01-04 00:00:00\n",
      "2022-01-05 00:00:00\n",
      "2022-01-06 00:00:00\n"
     ]
    }
   ],
   "source": [
    "for x in datas:\n",
    "    print(x)\n"
   ]
  },
  {
   "cell_type": "code",
   "execution_count": 25,
   "id": "168272a1",
   "metadata": {},
   "outputs": [
    {
     "data": {
      "text/html": [
       "<div>\n",
       "<style scoped>\n",
       "    .dataframe tbody tr th:only-of-type {\n",
       "        vertical-align: middle;\n",
       "    }\n",
       "\n",
       "    .dataframe tbody tr th {\n",
       "        vertical-align: top;\n",
       "    }\n",
       "\n",
       "    .dataframe thead th {\n",
       "        text-align: right;\n",
       "    }\n",
       "</style>\n",
       "<table border=\"1\" class=\"dataframe\">\n",
       "  <thead>\n",
       "    <tr style=\"text-align: right;\">\n",
       "      <th></th>\n",
       "      <th>0</th>\n",
       "      <th>1</th>\n",
       "      <th>2</th>\n",
       "      <th>3</th>\n",
       "    </tr>\n",
       "  </thead>\n",
       "  <tbody>\n",
       "    <tr>\n",
       "      <th>0</th>\n",
       "      <td>-0.548630</td>\n",
       "      <td>0.220208</td>\n",
       "      <td>-0.195819</td>\n",
       "      <td>0.649200</td>\n",
       "    </tr>\n",
       "    <tr>\n",
       "      <th>1</th>\n",
       "      <td>0.512755</td>\n",
       "      <td>1.385233</td>\n",
       "      <td>-0.537893</td>\n",
       "      <td>-1.192687</td>\n",
       "    </tr>\n",
       "    <tr>\n",
       "      <th>2</th>\n",
       "      <td>-0.591116</td>\n",
       "      <td>-0.278346</td>\n",
       "      <td>-1.205671</td>\n",
       "      <td>2.219999</td>\n",
       "    </tr>\n",
       "    <tr>\n",
       "      <th>3</th>\n",
       "      <td>-0.660947</td>\n",
       "      <td>1.411314</td>\n",
       "      <td>-0.394860</td>\n",
       "      <td>-0.455626</td>\n",
       "    </tr>\n",
       "    <tr>\n",
       "      <th>4</th>\n",
       "      <td>-0.030742</td>\n",
       "      <td>-0.323934</td>\n",
       "      <td>-0.752860</td>\n",
       "      <td>-0.501610</td>\n",
       "    </tr>\n",
       "    <tr>\n",
       "      <th>5</th>\n",
       "      <td>-0.743420</td>\n",
       "      <td>0.781727</td>\n",
       "      <td>-1.949866</td>\n",
       "      <td>0.864262</td>\n",
       "    </tr>\n",
       "  </tbody>\n",
       "</table>\n",
       "</div>"
      ],
      "text/plain": [
       "          0         1         2         3\n",
       "0 -0.548630  0.220208 -0.195819  0.649200\n",
       "1  0.512755  1.385233 -0.537893 -1.192687\n",
       "2 -0.591116 -0.278346 -1.205671  2.219999\n",
       "3 -0.660947  1.411314 -0.394860 -0.455626\n",
       "4 -0.030742 -0.323934 -0.752860 -0.501610\n",
       "5 -0.743420  0.781727 -1.949866  0.864262"
      ]
     },
     "execution_count": 25,
     "metadata": {},
     "output_type": "execute_result"
    }
   ],
   "source": [
    "df = pd.DataFrame(np.random.randn(6,4))\n",
    "#Gera um df. Função data frame \n",
    "#vai gerar biblioteca numpy com numeros aleatorios. 6 linhas e 4 colunas \n",
    "#gera numeros randomicos. randn é pegar numeros aleatorios respeitando distribuilçao normal com média 0 e desvio padrão 1 \n",
    "\n",
    "df"
   ]
  },
  {
   "cell_type": "code",
   "execution_count": 28,
   "id": "35cef9cb",
   "metadata": {},
   "outputs": [
    {
     "data": {
      "text/plain": [
       "['A', 'B', 'C', 'D']"
      ]
     },
     "execution_count": 28,
     "metadata": {},
     "output_type": "execute_result"
    }
   ],
   "source": [
    "list(\"ABCD\")\n"
   ]
  },
  {
   "cell_type": "code",
   "execution_count": 30,
   "id": "8fa42ee1",
   "metadata": {},
   "outputs": [
    {
     "data": {
      "text/html": [
       "<div>\n",
       "<style scoped>\n",
       "    .dataframe tbody tr th:only-of-type {\n",
       "        vertical-align: middle;\n",
       "    }\n",
       "\n",
       "    .dataframe tbody tr th {\n",
       "        vertical-align: top;\n",
       "    }\n",
       "\n",
       "    .dataframe thead th {\n",
       "        text-align: right;\n",
       "    }\n",
       "</style>\n",
       "<table border=\"1\" class=\"dataframe\">\n",
       "  <thead>\n",
       "    <tr style=\"text-align: right;\">\n",
       "      <th></th>\n",
       "      <th>Carros</th>\n",
       "      <th>Paises</th>\n",
       "      <th>Pessoas</th>\n",
       "      <th>Opa</th>\n",
       "    </tr>\n",
       "  </thead>\n",
       "  <tbody>\n",
       "    <tr>\n",
       "      <th>2022-01-01</th>\n",
       "      <td>-0.841835</td>\n",
       "      <td>0.533675</td>\n",
       "      <td>-0.140798</td>\n",
       "      <td>0.610635</td>\n",
       "    </tr>\n",
       "    <tr>\n",
       "      <th>2022-01-02</th>\n",
       "      <td>1.177307</td>\n",
       "      <td>-1.296290</td>\n",
       "      <td>-1.753287</td>\n",
       "      <td>0.368681</td>\n",
       "    </tr>\n",
       "    <tr>\n",
       "      <th>2022-01-03</th>\n",
       "      <td>-1.351520</td>\n",
       "      <td>-0.739974</td>\n",
       "      <td>0.511255</td>\n",
       "      <td>-0.233425</td>\n",
       "    </tr>\n",
       "    <tr>\n",
       "      <th>2022-01-04</th>\n",
       "      <td>-0.553084</td>\n",
       "      <td>0.052515</td>\n",
       "      <td>-1.854630</td>\n",
       "      <td>-0.704586</td>\n",
       "    </tr>\n",
       "    <tr>\n",
       "      <th>2022-01-05</th>\n",
       "      <td>-0.312644</td>\n",
       "      <td>0.931192</td>\n",
       "      <td>1.040388</td>\n",
       "      <td>-0.026769</td>\n",
       "    </tr>\n",
       "    <tr>\n",
       "      <th>2022-01-06</th>\n",
       "      <td>2.150964</td>\n",
       "      <td>-0.790827</td>\n",
       "      <td>0.750236</td>\n",
       "      <td>-0.907275</td>\n",
       "    </tr>\n",
       "  </tbody>\n",
       "</table>\n",
       "</div>"
      ],
      "text/plain": [
       "              Carros    Paises   Pessoas       Opa\n",
       "2022-01-01 -0.841835  0.533675 -0.140798  0.610635\n",
       "2022-01-02  1.177307 -1.296290 -1.753287  0.368681\n",
       "2022-01-03 -1.351520 -0.739974  0.511255 -0.233425\n",
       "2022-01-04 -0.553084  0.052515 -1.854630 -0.704586\n",
       "2022-01-05 -0.312644  0.931192  1.040388 -0.026769\n",
       "2022-01-06  2.150964 -0.790827  0.750236 -0.907275"
      ]
     },
     "execution_count": 30,
     "metadata": {},
     "output_type": "execute_result"
    }
   ],
   "source": [
    "#df = pd.DataFrame(np.random.randn(6,4), index = datas, columns=list(\"ABCD\"))\n",
    "df = pd.DataFrame(np.random.randn(6,4), index = datas, columns= [\"Carros\", \"Paises\", \"Pessoas\", \"Opa\"])\n",
    "#index é a referência da linhas. são 6 datas, 6 linhas. \n",
    "#colunas são uma lista das 4 letras.\n"
   ]
  },
  {
   "cell_type": "code",
   "execution_count": 35,
   "id": "22a8af9f",
   "metadata": {},
   "outputs": [
    {
     "data": {
      "text/html": [
       "<div>\n",
       "<style scoped>\n",
       "    .dataframe tbody tr th:only-of-type {\n",
       "        vertical-align: middle;\n",
       "    }\n",
       "\n",
       "    .dataframe tbody tr th {\n",
       "        vertical-align: top;\n",
       "    }\n",
       "\n",
       "    .dataframe thead th {\n",
       "        text-align: right;\n",
       "    }\n",
       "</style>\n",
       "<table border=\"1\" class=\"dataframe\">\n",
       "  <thead>\n",
       "    <tr style=\"text-align: right;\">\n",
       "      <th></th>\n",
       "      <th>A</th>\n",
       "      <th>B</th>\n",
       "      <th>C</th>\n",
       "      <th>D</th>\n",
       "      <th>E</th>\n",
       "      <th>F</th>\n",
       "    </tr>\n",
       "  </thead>\n",
       "  <tbody>\n",
       "    <tr>\n",
       "      <th>0</th>\n",
       "      <td>7</td>\n",
       "      <td>2019-01-01</td>\n",
       "      <td>1.0</td>\n",
       "      <td>3</td>\n",
       "      <td>test</td>\n",
       "      <td>Python</td>\n",
       "    </tr>\n",
       "    <tr>\n",
       "      <th>1</th>\n",
       "      <td>7</td>\n",
       "      <td>2019-01-01</td>\n",
       "      <td>1.0</td>\n",
       "      <td>3</td>\n",
       "      <td>train</td>\n",
       "      <td>Python</td>\n",
       "    </tr>\n",
       "    <tr>\n",
       "      <th>2</th>\n",
       "      <td>7</td>\n",
       "      <td>2019-01-01</td>\n",
       "      <td>1.0</td>\n",
       "      <td>3</td>\n",
       "      <td>test</td>\n",
       "      <td>Python</td>\n",
       "    </tr>\n",
       "    <tr>\n",
       "      <th>3</th>\n",
       "      <td>7</td>\n",
       "      <td>2019-01-01</td>\n",
       "      <td>1.0</td>\n",
       "      <td>3</td>\n",
       "      <td>train</td>\n",
       "      <td>Python</td>\n",
       "    </tr>\n",
       "  </tbody>\n",
       "</table>\n",
       "</div>"
      ],
      "text/plain": [
       "   A          B    C  D      E       F\n",
       "0  7 2019-01-01  1.0  3   test  Python\n",
       "1  7 2019-01-01  1.0  3  train  Python\n",
       "2  7 2019-01-01  1.0  3   test  Python\n",
       "3  7 2019-01-01  1.0  3  train  Python"
      ]
     },
     "execution_count": 35,
     "metadata": {},
     "output_type": "execute_result"
    }
   ],
   "source": [
    "df2 = pd.DataFrame({\"A\": 7, \n",
    "                   \"B\": pd.Timestamp(\"20190101\"), \n",
    "                   \"C\": pd.Series(1, index= list(range(4)), dtype=\"float32\"), \n",
    "                   \"D\": np.array([3] * 4, dtype=\"int32\"),\n",
    "                   \"E\": pd.Categorical([\"test\", \"train\", \"test\", \"train\"]),\n",
    "                   \"F\": \"Python\"})\n",
    "#\n",
    "df2\n"
   ]
  }
 ],
 "metadata": {
  "kernelspec": {
   "display_name": "Python 3",
   "language": "python",
   "name": "python3"
  },
  "language_info": {
   "codemirror_mode": {
    "name": "ipython",
    "version": 3
   },
   "file_extension": ".py",
   "mimetype": "text/x-python",
   "name": "python",
   "nbconvert_exporter": "python",
   "pygments_lexer": "ipython3",
   "version": "3.8.8"
  },
  "vscode": {
   "interpreter": {
    "hash": "6a6a11f53d5643a9d722c35f1934cd528c1d635d70c1eea7ed647ca35eec259e"
   }
  }
 },
 "nbformat": 4,
 "nbformat_minor": 5
}
