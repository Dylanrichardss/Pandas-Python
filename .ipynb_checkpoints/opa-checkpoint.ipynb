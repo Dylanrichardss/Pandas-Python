{
 "cells": [
  {
   "cell_type": "code",
   "execution_count": 1,
   "id": "a3c79906",
   "metadata": {},
   "outputs": [],
   "source": [
    "import tabula"
   ]
  },
  {
   "cell_type": "code",
   "execution_count": 175,
   "id": "b46887aa",
   "metadata": {
    "scrolled": true
   },
   "outputs": [
    {
     "name": "stderr",
     "output_type": "stream",
     "text": [
      "Got stderr: Picked up JAVA_TOOL_OPTIONS: -Dlog4j.formatMsgNoLookups=true\n",
      "\n"
     ]
    },
    {
     "name": "stdout",
     "output_type": "stream",
     "text": [
      "[Empty DataFrame\n",
      "Columns: [SLH00449]\n",
      "Index: []]\n"
     ]
    }
   ],
   "source": [
    "opa = tabula.read_pdf(\"05873_2.pdf\", encoding=\"utf-8\", area=(218, 98, 233, 145), pages='all')\n",
    "print(opa)"
   ]
  }
 ],
 "metadata": {
  "kernelspec": {
   "display_name": "Python 3",
   "language": "python",
   "name": "python3"
  },
  "language_info": {
   "codemirror_mode": {
    "name": "ipython",
    "version": 3
   },
   "file_extension": ".py",
   "mimetype": "text/x-python",
   "name": "python",
   "nbconvert_exporter": "python",
   "pygments_lexer": "ipython3",
   "version": "3.8.8"
  }
 },
 "nbformat": 4,
 "nbformat_minor": 5
}
